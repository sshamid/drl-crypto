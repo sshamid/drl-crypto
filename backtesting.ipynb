{
 "cells": [
  {
   "cell_type": "code",
   "execution_count": 2,
   "metadata": {},
   "outputs": [],
   "source": [
    "import pandas as pd\n",
    "import matplotlib.pyplot as plt\n",
    "from matplotlib.pylab import rcParams\n",
    "%matplotlib inline\n",
    "\n",
    "pd.set_option('display.max_rows', None)\n",
    "pd.set_option('display.max_columns', None)\n",
    "pd.set_option('display.width', None)\n",
    "pd.set_option('display.max_colwidth', None)\n",
    "rcParams['figure.figsize'] = (16, 10)\n",
    "rcParams[\"savefig.format\"] = 'png'"
   ]
  },
  {
   "cell_type": "code",
   "execution_count": 3,
   "metadata": {},
   "outputs": [],
   "source": [
    "# !pip install git+https://github.com/quantopian/pyfolio\n",
    "# import again if first time not work\n",
    "# import pyfolio"
   ]
  },
  {
   "cell_type": "code",
   "execution_count": 4,
   "metadata": {},
   "outputs": [],
   "source": [
    "def get_daily_return(df):\n",
    "    df['daily_return']=df.account_value.pct_change(1)\n",
    "    #df=df.dropna()\n",
    "    print('Sharpe: ',(252**0.5)*df['daily_return'].mean()/ df['daily_return'].std())\n",
    "    return df"
   ]
  },
  {
   "cell_type": "code",
   "execution_count": 5,
   "metadata": {},
   "outputs": [],
   "source": [
    "def backtest_strat(df):\n",
    "    strategy_ret= df.copy()\n",
    "    strategy_ret['Date'] = pd.to_datetime(strategy_ret['Date'])\n",
    "    strategy_ret.set_index('Date', drop = False, inplace = True)\n",
    "    strategy_ret.index = strategy_ret.index.tz_localize('UTC')\n",
    "    del strategy_ret['Date']\n",
    "    ts = pd.Series(strategy_ret['daily_return'].values, index=strategy_ret.index)\n",
    "    return ts"
   ]
  },
  {
   "cell_type": "code",
   "execution_count": 6,
   "metadata": {},
   "outputs": [],
   "source": [
    "def get_account_value(model_name):\n",
    "    df_account_value=pd.DataFrame()\n",
    "    for i in range(rebalance_window+validation_window, len(unique_trade_date)+1,rebalance_window):\n",
    "        temp = pd.read_csv('results/account_value_trade_{}_{}.csv'.format(model_name,i))\n",
    "        df_account_value = df_account_value.append(temp,ignore_index=True)\n",
    "    \n",
    "    df_account_value = pd.DataFrame({'account_value':df_account_value['0']})\n",
    "    print(df_account_value.head())\n",
    "    sharpe=(252**0.5)*df_account_value.account_value.pct_change(1).mean()/df_account_value.account_value.pct_change(1).std()\n",
    "    print(sharpe)\n",
    "    #df_account_value=df_account_value.join(df_trade_date.reset_index(drop=True))\n",
    "    return df_account_value"
   ]
  },
  {
   "cell_type": "code",
   "execution_count": null,
   "metadata": {},
   "outputs": [],
   "source": []
  },
  {
   "cell_type": "code",
   "execution_count": 7,
   "metadata": {},
   "outputs": [],
   "source": [
    "df_btc=pd.read_csv('done_data.csv')\n",
    "df_btc=df_btc[(df_btc.datadate >= 20190101) & (df_btc.tic=='ETH')]\n",
    "df_btc['daily_return']=df_btc['adjcp'].pct_change(1)\n",
    "df_btc['Date'] = pd.to_datetime(df_btc['datadate'],format='%Y%m%d').dt.date"
   ]
  },
  {
   "cell_type": "code",
   "execution_count": 8,
   "metadata": {},
   "outputs": [
    {
     "data": {
      "text/plain": [
       "(278, 18)"
      ]
     },
     "execution_count": 8,
     "metadata": {},
     "output_type": "execute_result"
    }
   ],
   "source": [
    "df_btc.shape"
   ]
  },
  {
   "cell_type": "code",
   "execution_count": 9,
   "metadata": {},
   "outputs": [
    {
     "data": {
      "text/html": [
       "<div>\n",
       "<style scoped>\n",
       "    .dataframe tbody tr th:only-of-type {\n",
       "        vertical-align: middle;\n",
       "    }\n",
       "\n",
       "    .dataframe tbody tr th {\n",
       "        vertical-align: top;\n",
       "    }\n",
       "\n",
       "    .dataframe thead th {\n",
       "        text-align: right;\n",
       "    }\n",
       "</style>\n",
       "<table border=\"1\" class=\"dataframe\">\n",
       "  <thead>\n",
       "    <tr style=\"text-align: right;\">\n",
       "      <th></th>\n",
       "      <th>Unnamed: 0</th>\n",
       "      <th>datadate</th>\n",
       "      <th>tic</th>\n",
       "      <th>adjcp</th>\n",
       "      <th>open</th>\n",
       "      <th>high</th>\n",
       "      <th>low</th>\n",
       "      <th>volume</th>\n",
       "      <th>neutral</th>\n",
       "      <th>positive</th>\n",
       "      <th>negative</th>\n",
       "      <th>macd</th>\n",
       "      <th>rsi</th>\n",
       "      <th>cci</th>\n",
       "      <th>adx</th>\n",
       "      <th>turbulence</th>\n",
       "      <th>daily_return</th>\n",
       "      <th>Date</th>\n",
       "    </tr>\n",
       "  </thead>\n",
       "  <tbody>\n",
       "    <tr>\n",
       "      <th>2291</th>\n",
       "      <td>2291</td>\n",
       "      <td>20190219</td>\n",
       "      <td>ETH</td>\n",
       "      <td>145.346184</td>\n",
       "      <td>146.398820</td>\n",
       "      <td>149.929978</td>\n",
       "      <td>145.128467</td>\n",
       "      <td>5310842625</td>\n",
       "      <td>77.347001</td>\n",
       "      <td>3.599612</td>\n",
       "      <td>0.053387</td>\n",
       "      <td>6.701315</td>\n",
       "      <td>51.840747</td>\n",
       "      <td>143.848915</td>\n",
       "      <td>36.359070</td>\n",
       "      <td>0.505861</td>\n",
       "      <td>NaN</td>\n",
       "      <td>2019-02-19</td>\n",
       "    </tr>\n",
       "    <tr>\n",
       "      <th>2293</th>\n",
       "      <td>2293</td>\n",
       "      <td>20190220</td>\n",
       "      <td>ETH</td>\n",
       "      <td>149.554344</td>\n",
       "      <td>145.172723</td>\n",
       "      <td>149.554344</td>\n",
       "      <td>142.502127</td>\n",
       "      <td>4500094965</td>\n",
       "      <td>77.323183</td>\n",
       "      <td>6.659549</td>\n",
       "      <td>0.017268</td>\n",
       "      <td>7.784428</td>\n",
       "      <td>52.883314</td>\n",
       "      <td>131.129732</td>\n",
       "      <td>32.256889</td>\n",
       "      <td>0.495939</td>\n",
       "      <td>0.028953</td>\n",
       "      <td>2019-02-20</td>\n",
       "    </tr>\n",
       "    <tr>\n",
       "      <th>2295</th>\n",
       "      <td>2295</td>\n",
       "      <td>20190221</td>\n",
       "      <td>ETH</td>\n",
       "      <td>146.130844</td>\n",
       "      <td>149.352327</td>\n",
       "      <td>149.352327</td>\n",
       "      <td>144.563818</td>\n",
       "      <td>3995766856</td>\n",
       "      <td>78.946282</td>\n",
       "      <td>8.021995</td>\n",
       "      <td>2.031723</td>\n",
       "      <td>8.271210</td>\n",
       "      <td>51.937070</td>\n",
       "      <td>117.023591</td>\n",
       "      <td>32.256889</td>\n",
       "      <td>0.500692</td>\n",
       "      <td>-0.022891</td>\n",
       "      <td>2019-02-21</td>\n",
       "    </tr>\n",
       "    <tr>\n",
       "      <th>2297</th>\n",
       "      <td>2297</td>\n",
       "      <td>20190222</td>\n",
       "      <td>ETH</td>\n",
       "      <td>149.092454</td>\n",
       "      <td>146.073257</td>\n",
       "      <td>149.268617</td>\n",
       "      <td>145.206541</td>\n",
       "      <td>3731099284</td>\n",
       "      <td>79.976224</td>\n",
       "      <td>4.379713</td>\n",
       "      <td>0.644062</td>\n",
       "      <td>8.794587</td>\n",
       "      <td>52.694559</td>\n",
       "      <td>110.285304</td>\n",
       "      <td>32.256889</td>\n",
       "      <td>0.504257</td>\n",
       "      <td>0.020267</td>\n",
       "      <td>2019-02-22</td>\n",
       "    </tr>\n",
       "    <tr>\n",
       "      <th>2299</th>\n",
       "      <td>2299</td>\n",
       "      <td>20190223</td>\n",
       "      <td>ETH</td>\n",
       "      <td>158.795430</td>\n",
       "      <td>148.676622</td>\n",
       "      <td>159.125870</td>\n",
       "      <td>147.331060</td>\n",
       "      <td>4519468458</td>\n",
       "      <td>84.462955</td>\n",
       "      <td>8.281207</td>\n",
       "      <td>0.255839</td>\n",
       "      <td>9.878444</td>\n",
       "      <td>55.093268</td>\n",
       "      <td>121.803131</td>\n",
       "      <td>40.467591</td>\n",
       "      <td>0.495582</td>\n",
       "      <td>0.065080</td>\n",
       "      <td>2019-02-23</td>\n",
       "    </tr>\n",
       "  </tbody>\n",
       "</table>\n",
       "</div>"
      ],
      "text/plain": [
       "      Unnamed: 0  datadate  tic       adjcp        open        high  \\\n",
       "2291        2291  20190219  ETH  145.346184  146.398820  149.929978   \n",
       "2293        2293  20190220  ETH  149.554344  145.172723  149.554344   \n",
       "2295        2295  20190221  ETH  146.130844  149.352327  149.352327   \n",
       "2297        2297  20190222  ETH  149.092454  146.073257  149.268617   \n",
       "2299        2299  20190223  ETH  158.795430  148.676622  159.125870   \n",
       "\n",
       "             low      volume    neutral  positive  negative      macd  \\\n",
       "2291  145.128467  5310842625  77.347001  3.599612  0.053387  6.701315   \n",
       "2293  142.502127  4500094965  77.323183  6.659549  0.017268  7.784428   \n",
       "2295  144.563818  3995766856  78.946282  8.021995  2.031723  8.271210   \n",
       "2297  145.206541  3731099284  79.976224  4.379713  0.644062  8.794587   \n",
       "2299  147.331060  4519468458  84.462955  8.281207  0.255839  9.878444   \n",
       "\n",
       "            rsi         cci        adx  turbulence  daily_return        Date  \n",
       "2291  51.840747  143.848915  36.359070    0.505861           NaN  2019-02-19  \n",
       "2293  52.883314  131.129732  32.256889    0.495939      0.028953  2019-02-20  \n",
       "2295  51.937070  117.023591  32.256889    0.500692     -0.022891  2019-02-21  \n",
       "2297  52.694559  110.285304  32.256889    0.504257      0.020267  2019-02-22  \n",
       "2299  55.093268  121.803131  40.467591    0.495582      0.065080  2019-02-23  "
      ]
     },
     "execution_count": 9,
     "metadata": {},
     "output_type": "execute_result"
    }
   ],
   "source": [
    "df_btc.head()"
   ]
  },
  {
   "cell_type": "markdown",
   "metadata": {},
   "source": [
    "## Strategy : account value calculation"
   ]
  },
  {
   "cell_type": "code",
   "execution_count": 10,
   "metadata": {},
   "outputs": [],
   "source": [
    "rebalance_window = 63\n",
    "validation_window = 63\n",
    "\n",
    "unique_trade_date = df_btc.datadate.unique()"
   ]
  },
  {
   "cell_type": "code",
   "execution_count": 11,
   "metadata": {},
   "outputs": [
    {
     "data": {
      "text/plain": [
       "278"
      ]
     },
     "execution_count": 11,
     "metadata": {},
     "output_type": "execute_result"
    }
   ],
   "source": [
    "len(unique_trade_date)"
   ]
  },
  {
   "cell_type": "code",
   "execution_count": 12,
   "metadata": {},
   "outputs": [],
   "source": [
    "df_trade_date = pd.DataFrame({'datadate':unique_trade_date})"
   ]
  },
  {
   "cell_type": "code",
   "execution_count": 16,
   "metadata": {},
   "outputs": [
    {
     "name": "stdout",
     "output_type": "stream",
     "text": [
      "    account_value\n",
      "0  1000000.000000\n",
      "1   998811.390629\n",
      "2   993440.728230\n",
      "3   995508.688659\n",
      "4   995095.559591\n",
      "1.6950547244320922\n",
      "Sharpe:  1.6950547244320922\n"
     ]
    }
   ],
   "source": [
    "ti_ss_account_value = get_account_value('ensemble')\n",
    "ti_ss_account_value = ti_ss_account_value.join(df_trade_date)\n",
    "ti_ss_account_value = get_daily_return(ti_ss_account_value)\n",
    "ti_ss_account_value['Date'] = pd.to_datetime(ti_ss_account_value['datadate'],format='%Y%m%d')#.dt.date\n",
    "ti_ss_account_value.index = ensemble_account_value.Date\n",
    "ti_ss_account_value.rename(columns={'account_value':'technical_indicator+sentiment_score','daily_return':'daily_return_ti+ss'}, inplace=True)"
   ]
  },
  {
   "cell_type": "code",
   "execution_count": 17,
   "metadata": {},
   "outputs": [
    {
     "data": {
      "text/html": [
       "<div>\n",
       "<style scoped>\n",
       "    .dataframe tbody tr th:only-of-type {\n",
       "        vertical-align: middle;\n",
       "    }\n",
       "\n",
       "    .dataframe tbody tr th {\n",
       "        vertical-align: top;\n",
       "    }\n",
       "\n",
       "    .dataframe thead th {\n",
       "        text-align: right;\n",
       "    }\n",
       "</style>\n",
       "<table border=\"1\" class=\"dataframe\">\n",
       "  <thead>\n",
       "    <tr style=\"text-align: right;\">\n",
       "      <th></th>\n",
       "      <th>technical_indicator+sentiment_score</th>\n",
       "      <th>datadate</th>\n",
       "      <th>daily_return_ti+ss</th>\n",
       "      <th>Date</th>\n",
       "    </tr>\n",
       "    <tr>\n",
       "      <th>Date</th>\n",
       "      <th></th>\n",
       "      <th></th>\n",
       "      <th></th>\n",
       "      <th></th>\n",
       "    </tr>\n",
       "  </thead>\n",
       "  <tbody>\n",
       "    <tr>\n",
       "      <th>2019-02-19</th>\n",
       "      <td>1000000.000000</td>\n",
       "      <td>20190219</td>\n",
       "      <td>NaN</td>\n",
       "      <td>2019-02-19</td>\n",
       "    </tr>\n",
       "    <tr>\n",
       "      <th>2019-02-20</th>\n",
       "      <td>998811.390629</td>\n",
       "      <td>20190220</td>\n",
       "      <td>-0.001189</td>\n",
       "      <td>2019-02-20</td>\n",
       "    </tr>\n",
       "    <tr>\n",
       "      <th>2019-02-21</th>\n",
       "      <td>993440.728230</td>\n",
       "      <td>20190221</td>\n",
       "      <td>-0.005377</td>\n",
       "      <td>2019-02-21</td>\n",
       "    </tr>\n",
       "    <tr>\n",
       "      <th>2019-02-22</th>\n",
       "      <td>995508.688659</td>\n",
       "      <td>20190222</td>\n",
       "      <td>0.002082</td>\n",
       "      <td>2019-02-22</td>\n",
       "    </tr>\n",
       "    <tr>\n",
       "      <th>2019-02-23</th>\n",
       "      <td>995095.559591</td>\n",
       "      <td>20190223</td>\n",
       "      <td>-0.000415</td>\n",
       "      <td>2019-02-23</td>\n",
       "    </tr>\n",
       "  </tbody>\n",
       "</table>\n",
       "</div>"
      ],
      "text/plain": [
       "            technical_indicator+sentiment_score  datadate  daily_return_ti+ss  \\\n",
       "Date                                                                            \n",
       "2019-02-19                       1000000.000000  20190219                 NaN   \n",
       "2019-02-20                        998811.390629  20190220           -0.001189   \n",
       "2019-02-21                        993440.728230  20190221           -0.005377   \n",
       "2019-02-22                        995508.688659  20190222            0.002082   \n",
       "2019-02-23                        995095.559591  20190223           -0.000415   \n",
       "\n",
       "                 Date  \n",
       "Date                   \n",
       "2019-02-19 2019-02-19  \n",
       "2019-02-20 2019-02-20  \n",
       "2019-02-21 2019-02-21  \n",
       "2019-02-22 2019-02-22  \n",
       "2019-02-23 2019-02-23  "
      ]
     },
     "execution_count": 17,
     "metadata": {},
     "output_type": "execute_result"
    }
   ],
   "source": [
    "ti_ss_account_value.head()"
   ]
  },
  {
   "cell_type": "code",
   "execution_count": 18,
   "metadata": {},
   "outputs": [],
   "source": [
    "# ti_ss_account_value.to_csv('data/account_value_technical_indicator_sentiment_score.csv')"
   ]
  },
  {
   "cell_type": "markdown",
   "metadata": {},
   "source": [
    "## Benchmark"
   ]
  },
  {
   "cell_type": "code",
   "execution_count": 19,
   "metadata": {},
   "outputs": [],
   "source": [
    "benchmark = pd.read_csv('data/benchmark2019.csv', index_col=0)\n",
    "benchmark.rename(columns={'account_value':'technical_indicator','daily_return':'daily_return_ti'}, inplace=True)\n",
    "benchmark.drop('Date.1',axis=1,inplace=True)"
   ]
  },
  {
   "cell_type": "code",
   "execution_count": 20,
   "metadata": {},
   "outputs": [
    {
     "data": {
      "text/html": [
       "<div>\n",
       "<style scoped>\n",
       "    .dataframe tbody tr th:only-of-type {\n",
       "        vertical-align: middle;\n",
       "    }\n",
       "\n",
       "    .dataframe tbody tr th {\n",
       "        vertical-align: top;\n",
       "    }\n",
       "\n",
       "    .dataframe thead th {\n",
       "        text-align: right;\n",
       "    }\n",
       "</style>\n",
       "<table border=\"1\" class=\"dataframe\">\n",
       "  <thead>\n",
       "    <tr style=\"text-align: right;\">\n",
       "      <th></th>\n",
       "      <th>technical_indicator</th>\n",
       "      <th>datadate</th>\n",
       "      <th>daily_return_ti</th>\n",
       "    </tr>\n",
       "    <tr>\n",
       "      <th>Date</th>\n",
       "      <th></th>\n",
       "      <th></th>\n",
       "      <th></th>\n",
       "    </tr>\n",
       "  </thead>\n",
       "  <tbody>\n",
       "    <tr>\n",
       "      <th>2019-02-19</th>\n",
       "      <td>1000000.000000</td>\n",
       "      <td>20190219</td>\n",
       "      <td>NaN</td>\n",
       "    </tr>\n",
       "    <tr>\n",
       "      <th>2019-02-20</th>\n",
       "      <td>998811.390629</td>\n",
       "      <td>20190220</td>\n",
       "      <td>-0.001189</td>\n",
       "    </tr>\n",
       "    <tr>\n",
       "      <th>2019-02-21</th>\n",
       "      <td>993440.728230</td>\n",
       "      <td>20190221</td>\n",
       "      <td>-0.005377</td>\n",
       "    </tr>\n",
       "    <tr>\n",
       "      <th>2019-02-22</th>\n",
       "      <td>995508.688659</td>\n",
       "      <td>20190222</td>\n",
       "      <td>0.002082</td>\n",
       "    </tr>\n",
       "    <tr>\n",
       "      <th>2019-02-23</th>\n",
       "      <td>995095.559591</td>\n",
       "      <td>20190223</td>\n",
       "      <td>-0.000415</td>\n",
       "    </tr>\n",
       "  </tbody>\n",
       "</table>\n",
       "</div>"
      ],
      "text/plain": [
       "            technical_indicator  datadate  daily_return_ti\n",
       "Date                                                      \n",
       "2019-02-19       1000000.000000  20190219              NaN\n",
       "2019-02-20        998811.390629  20190220        -0.001189\n",
       "2019-02-21        993440.728230  20190221        -0.005377\n",
       "2019-02-22        995508.688659  20190222         0.002082\n",
       "2019-02-23        995095.559591  20190223        -0.000415"
      ]
     },
     "execution_count": 20,
     "metadata": {},
     "output_type": "execute_result"
    }
   ],
   "source": [
    "benchmark.head()"
   ]
  },
  {
   "cell_type": "code",
   "execution_count": 21,
   "metadata": {},
   "outputs": [],
   "source": [
    "combined1 = benchmark.join(ti_ss_account_value[['technical_indicator+sentiment_score','daily_return_ti+ss']]).drop('datadate',axis=1)"
   ]
  },
  {
   "cell_type": "code",
   "execution_count": 22,
   "metadata": {},
   "outputs": [
    {
     "data": {
      "text/html": [
       "<div>\n",
       "<style scoped>\n",
       "    .dataframe tbody tr th:only-of-type {\n",
       "        vertical-align: middle;\n",
       "    }\n",
       "\n",
       "    .dataframe tbody tr th {\n",
       "        vertical-align: top;\n",
       "    }\n",
       "\n",
       "    .dataframe thead th {\n",
       "        text-align: right;\n",
       "    }\n",
       "</style>\n",
       "<table border=\"1\" class=\"dataframe\">\n",
       "  <thead>\n",
       "    <tr style=\"text-align: right;\">\n",
       "      <th></th>\n",
       "      <th>technical_indicator</th>\n",
       "      <th>daily_return_ti</th>\n",
       "      <th>technical_indicator+sentiment_score</th>\n",
       "      <th>daily_return_ti+ss</th>\n",
       "    </tr>\n",
       "    <tr>\n",
       "      <th>Date</th>\n",
       "      <th></th>\n",
       "      <th></th>\n",
       "      <th></th>\n",
       "      <th></th>\n",
       "    </tr>\n",
       "  </thead>\n",
       "  <tbody>\n",
       "    <tr>\n",
       "      <th>2019-02-19</th>\n",
       "      <td>1000000.000000</td>\n",
       "      <td>NaN</td>\n",
       "      <td>1000000.000000</td>\n",
       "      <td>NaN</td>\n",
       "    </tr>\n",
       "    <tr>\n",
       "      <th>2019-02-20</th>\n",
       "      <td>998811.390629</td>\n",
       "      <td>-0.001189</td>\n",
       "      <td>998811.390629</td>\n",
       "      <td>-0.001189</td>\n",
       "    </tr>\n",
       "    <tr>\n",
       "      <th>2019-02-21</th>\n",
       "      <td>993440.728230</td>\n",
       "      <td>-0.005377</td>\n",
       "      <td>993440.728230</td>\n",
       "      <td>-0.005377</td>\n",
       "    </tr>\n",
       "    <tr>\n",
       "      <th>2019-02-22</th>\n",
       "      <td>995508.688659</td>\n",
       "      <td>0.002082</td>\n",
       "      <td>995508.688659</td>\n",
       "      <td>0.002082</td>\n",
       "    </tr>\n",
       "    <tr>\n",
       "      <th>2019-02-23</th>\n",
       "      <td>995095.559591</td>\n",
       "      <td>-0.000415</td>\n",
       "      <td>995095.559591</td>\n",
       "      <td>-0.000415</td>\n",
       "    </tr>\n",
       "  </tbody>\n",
       "</table>\n",
       "</div>"
      ],
      "text/plain": [
       "            technical_indicator  daily_return_ti  \\\n",
       "Date                                               \n",
       "2019-02-19       1000000.000000              NaN   \n",
       "2019-02-20        998811.390629        -0.001189   \n",
       "2019-02-21        993440.728230        -0.005377   \n",
       "2019-02-22        995508.688659         0.002082   \n",
       "2019-02-23        995095.559591        -0.000415   \n",
       "\n",
       "            technical_indicator+sentiment_score  daily_return_ti+ss  \n",
       "Date                                                                 \n",
       "2019-02-19                       1000000.000000                 NaN  \n",
       "2019-02-20                        998811.390629           -0.001189  \n",
       "2019-02-21                        993440.728230           -0.005377  \n",
       "2019-02-22                        995508.688659            0.002082  \n",
       "2019-02-23                        995095.559591           -0.000415  "
      ]
     },
     "execution_count": 22,
     "metadata": {},
     "output_type": "execute_result"
    }
   ],
   "source": [
    "combined1.head()"
   ]
  },
  {
   "cell_type": "code",
   "execution_count": 23,
   "metadata": {},
   "outputs": [],
   "source": [
    "# combined1.to_csv('data/account_value_comparison.csv')"
   ]
  },
  {
   "cell_type": "markdown",
   "metadata": {},
   "source": [
    "## Plot"
   ]
  },
  {
   "cell_type": "markdown",
   "metadata": {},
   "source": [
    "### Technical indicator vs Technical indicator + sentiment score"
   ]
  },
  {
   "cell_type": "code",
   "execution_count": 24,
   "metadata": {},
   "outputs": [
    {
     "data": {
      "image/png": "[encoded data removed]",
      "text/plain": [
       "<Figure size 1152x720 with 1 Axes>"
      ]
     },
     "metadata": {
      "needs_background": "light"
     },
     "output_type": "display_data"
    }
   ],
   "source": [
    "ax = combined1[['technical_indicator', 'technical_indicator+sentiment_score']].plot()\n",
    "ax.set_ylabel(\"Cumulative Return\")\n",
    "plt.savefig('figs/performance.png', dpi=800, bbox_inches='tight')\n",
    "#plt.close()"
   ]
  },
  {
   "cell_type": "markdown",
   "metadata": {},
   "source": [
    "### Technical indicator + sentiment score vs Technical indicator + sentiment score + rnn score"
   ]
  },
  {
   "cell_type": "code",
   "execution_count": 28,
   "metadata": {},
   "outputs": [],
   "source": [
    "ti_ss_rnn = pd.read_csv('data/account_value_technical_indicator_sentiment_rnn_score.csv', index_col=0)\n",
    "ti_ss_rnn.drop('Date.1',axis=1,inplace=True)"
   ]
  },
  {
   "cell_type": "code",
   "execution_count": 29,
   "metadata": {},
   "outputs": [
    {
     "data": {
      "text/html": [
       "<div>\n",
       "<style scoped>\n",
       "    .dataframe tbody tr th:only-of-type {\n",
       "        vertical-align: middle;\n",
       "    }\n",
       "\n",
       "    .dataframe tbody tr th {\n",
       "        vertical-align: top;\n",
       "    }\n",
       "\n",
       "    .dataframe thead th {\n",
       "        text-align: right;\n",
       "    }\n",
       "</style>\n",
       "<table border=\"1\" class=\"dataframe\">\n",
       "  <thead>\n",
       "    <tr style=\"text-align: right;\">\n",
       "      <th></th>\n",
       "      <th>technical_indicator+sentiment_score+rnn_score</th>\n",
       "      <th>datadate</th>\n",
       "      <th>daily_return_ti+ss+rnn_score</th>\n",
       "    </tr>\n",
       "    <tr>\n",
       "      <th>Date</th>\n",
       "      <th></th>\n",
       "      <th></th>\n",
       "      <th></th>\n",
       "    </tr>\n",
       "  </thead>\n",
       "  <tbody>\n",
       "    <tr>\n",
       "      <th>2019-02-19</th>\n",
       "      <td>1000000.000000</td>\n",
       "      <td>20190219</td>\n",
       "      <td>NaN</td>\n",
       "    </tr>\n",
       "    <tr>\n",
       "      <th>2019-02-20</th>\n",
       "      <td>998811.390629</td>\n",
       "      <td>20190220</td>\n",
       "      <td>-0.001189</td>\n",
       "    </tr>\n",
       "    <tr>\n",
       "      <th>2019-02-21</th>\n",
       "      <td>993440.728230</td>\n",
       "      <td>20190221</td>\n",
       "      <td>-0.005377</td>\n",
       "    </tr>\n",
       "    <tr>\n",
       "      <th>2019-02-22</th>\n",
       "      <td>995508.688659</td>\n",
       "      <td>20190222</td>\n",
       "      <td>0.002082</td>\n",
       "    </tr>\n",
       "    <tr>\n",
       "      <th>2019-02-23</th>\n",
       "      <td>995095.559591</td>\n",
       "      <td>20190223</td>\n",
       "      <td>-0.000415</td>\n",
       "    </tr>\n",
       "  </tbody>\n",
       "</table>\n",
       "</div>"
      ],
      "text/plain": [
       "            technical_indicator+sentiment_score+rnn_score  datadate  \\\n",
       "Date                                                                  \n",
       "2019-02-19                                 1000000.000000  20190219   \n",
       "2019-02-20                                  998811.390629  20190220   \n",
       "2019-02-21                                  993440.728230  20190221   \n",
       "2019-02-22                                  995508.688659  20190222   \n",
       "2019-02-23                                  995095.559591  20190223   \n",
       "\n",
       "            daily_return_ti+ss+rnn_score  \n",
       "Date                                      \n",
       "2019-02-19                           NaN  \n",
       "2019-02-20                     -0.001189  \n",
       "2019-02-21                     -0.005377  \n",
       "2019-02-22                      0.002082  \n",
       "2019-02-23                     -0.000415  "
      ]
     },
     "execution_count": 29,
     "metadata": {},
     "output_type": "execute_result"
    }
   ],
   "source": [
    "ti_ss_rnn.head()"
   ]
  },
  {
   "cell_type": "code",
   "execution_count": 35,
   "metadata": {},
   "outputs": [],
   "source": [
    "combined2 = ti_ss_account_value[['technical_indicator+sentiment_score','daily_return_ti+ss']].join(ti_ss_rnn).drop('datadate',axis=1)"
   ]
  },
  {
   "cell_type": "code",
   "execution_count": 37,
   "metadata": {},
   "outputs": [],
   "source": [
    "# combined2.to_csv('data/account_value_comparison2.csv')"
   ]
  },
  {
   "cell_type": "code",
   "execution_count": 36,
   "metadata": {},
   "outputs": [
    {
     "data": {
      "image/png": "[encoded data removed]",
      "text/plain": [
       "<Figure size 1152x720 with 1 Axes>"
      ]
     },
     "metadata": {
      "needs_background": "light"
     },
     "output_type": "display_data"
    }
   ],
   "source": [
    "ax = combined2[['technical_indicator+sentiment_score', 'technical_indicator+sentiment_score+rnn_score']].plot()\n",
    "ax.set_ylabel(\"Cumulative Return\")\n",
    "plt.savefig('figs/performance_new.png', dpi=800, bbox_inches='tight')\n",
    "#plt.close()"
   ]
  },
  {
   "cell_type": "code",
   "execution_count": null,
   "metadata": {},
   "outputs": [],
   "source": []
  },
  {
   "cell_type": "code",
   "execution_count": null,
   "metadata": {},
   "outputs": [],
   "source": []
  }
 ],
 "metadata": {
  "kernelspec": {
   "display_name": "conda_python3",
   "language": "python",
   "name": "conda_python3"
  },
  "language_info": {
   "codemirror_mode": {
    "name": "ipython",
    "version": 3
   },
   "file_extension": ".py",
   "mimetype": "text/x-python",
   "name": "python",
   "nbconvert_exporter": "python",
   "pygments_lexer": "ipython3",
   "version": "3.6.13"
  }
 },
 "nbformat": 4,
 "nbformat_minor": 4
}
